{
  "nbformat": 4,
  "nbformat_minor": 0,
  "metadata": {
    "colab": {
      "provenance": [],
      "authorship_tag": "ABX9TyN5jCf84dHUSDKK9YS1sDRc",
      "include_colab_link": true
    },
    "kernelspec": {
      "name": "python3",
      "display_name": "Python 3"
    },
    "language_info": {
      "name": "python"
    }
  },
  "cells": [
    {
      "cell_type": "markdown",
      "metadata": {
        "id": "view-in-github",
        "colab_type": "text"
      },
      "source": [
        "<a href=\"https://colab.research.google.com/github/shanali1570/Python-Compulsory-Project/blob/main/Mad_libs.ipynb\" target=\"_parent\"><img src=\"https://colab.research.google.com/assets/colab-badge.svg\" alt=\"Open In Colab\"/></a>"
      ]
    },
    {
      "cell_type": "code",
      "execution_count": 1,
      "metadata": {
        "colab": {
          "base_uri": "https://localhost:8080/"
        },
        "id": "otQGIcCIEm62",
        "outputId": "22ebc537-6a51-4c40-9658-2739288516be"
      },
      "outputs": [
        {
          "output_type": "stream",
          "name": "stdout",
          "text": [
            "Welcome to Mad Libs!\n",
            "Let's create a fun story together. Please provide the following inputs:\n",
            "\n",
            "Enter an adjective: silly\n",
            "Enter a noun: cat\n",
            "Enter a verb: dance\n",
            "Enter a place: forest\n",
            "Enter an animal: elephant\n",
            "Enter another adjective: magical\n",
            "\n",
            "Here's your Mad Libs story:\n",
            "\n",
            "\n",
            "    Once upon a time, there was a silly cat who loved to dance. \n",
            "    One day, while dance-ing in the forest, they met a magical elephant.\n",
            "    Together, they decided to dance all the way to the forest.\n",
            "    It was a magical adventure!\n",
            "    \n"
          ]
        }
      ],
      "source": [
        "# Mad Libs Game\n",
        "\n",
        "def mad_libs():\n",
        "    print(\"Welcome to Mad Libs!----create by S.M.Shan-e-Ali \")\n",
        "    print(\"Let's create a fun story together. Please provide the following inputs:\\n\")\n",
        "\n",
        "    # Get user inputs\n",
        "    adjective = input(\"Enter an adjective: \")\n",
        "    noun = input(\"Enter a noun: \")\n",
        "    verb = input(\"Enter a verb: \")\n",
        "    place = input(\"Enter a place: \")\n",
        "    animal = input(\"Enter an animal: \")\n",
        "    another_adjective = input(\"Enter another adjective: \")\n",
        "\n",
        "    # Create the story using f-strings\n",
        "    story = f\"\"\"\n",
        "    Once upon a time, there was a {adjective} {noun} who loved to {verb}.\n",
        "    One day, while {verb}-ing in the {place}, they met a {another_adjective} {animal}.\n",
        "    Together, they decided to {verb} all the way to the {place}.\n",
        "    It was a {another_adjective} adventure!\n",
        "    \"\"\"\n",
        "\n",
        "    # Print the final story\n",
        "    print(\"\\nHere's your Mad Libs story:\\n\")\n",
        "    print(story)\n",
        "\n",
        "# Run the game\n",
        "mad_libs()"
      ]
    }
  ]
}
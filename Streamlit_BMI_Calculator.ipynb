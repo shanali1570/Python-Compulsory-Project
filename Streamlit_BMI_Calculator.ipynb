{
  "nbformat": 4,
  "nbformat_minor": 0,
  "metadata": {
    "colab": {
      "provenance": [],
      "authorship_tag": "ABX9TyPKEPclqBLSEZ4nYzodgtJQ",
      "include_colab_link": true
    },
    "kernelspec": {
      "name": "python3",
      "display_name": "Python 3"
    },
    "language_info": {
      "name": "python"
    }
  },
  "cells": [
    {
      "cell_type": "markdown",
      "metadata": {
        "id": "view-in-github",
        "colab_type": "text"
      },
      "source": [
        "<a href=\"https://colab.research.google.com/github/shanali1570/Python-Compulsory-Project/blob/main/Streamlit_BMI_Calculator.ipynb\" target=\"_parent\"><img src=\"https://colab.research.google.com/assets/colab-badge.svg\" alt=\"Open In Colab\"/></a>"
      ]
    },
    {
      "cell_type": "markdown",
      "source": [
        "hello"
      ],
      "metadata": {
        "id": "yZNHla5z3XQP"
      }
    },
    {
      "cell_type": "code",
      "execution_count": null,
      "metadata": {
        "id": "ThUY3Y7vyopg"
      },
      "outputs": [],
      "source": [
        "\n",
        "import streamlit as st\n",
        "\n",
        "# Define the BMI Calculation Function\n",
        "def calculate_bmi(weight, height):\n",
        "    \"\"\"\n",
        "    Calculate BMI using weight (kg) and height (m).\n",
        "    \"\"\"\n",
        "    try:\n",
        "        bmi = weight / (height ** 2)\n",
        "        return round(bmi, 2)\n",
        "    except ZeroDivisionError:\n",
        "        return None\n",
        "\n",
        "# Streamlit App Interface\n",
        "def main():\n",
        "    # Set the title of the app\n",
        "    st.title(\"BMI Calculator -- created by S.M.Shan-e-Ali\")\n",
        "    st.write(\"Calculate your Body Mass Index (BMI) using this simple tool.\")\n",
        "\n",
        "    # Input fields for weight and height\n",
        "    weight = st.number_input(\"Enter your weight (in kg):\", min_value=1.0, step=0.1)\n",
        "    height = st.number_input(\"Enter your height (in meters):\", min_value=0.1, step=0.01)\n",
        "\n",
        "    # Calculate BMI when the button is clicked\n",
        "    if st.button(\"Calculate BMI\"):\n",
        "        bmi = calculate_bmi(weight, height)\n",
        "        if bmi is not None:\n",
        "            st.success(f\"Your BMI is: {bmi}\")\n",
        "\n",
        "            # Interpretation of BMI\n",
        "            if bmi < 18.5:\n",
        "                st.info(\"Category: Underweight\")\n",
        "            elif 18.5 <= bmi < 24.9:\n",
        "                st.info(\"Category: Normal weight\")\n",
        "            elif 25 <= bmi < 29.9:\n",
        "                st.warning(\"Category: Overweight\")\n",
        "            else:\n",
        "                st.error(\"Category: Obesity\")\n",
        "        else:\n",
        "            st.error(\"Please enter valid height and weight values.\")\n",
        "\n",
        "# Run the Streamlit app\n",
        "main()"
      ]
    },
    {
      "cell_type": "markdown",
      "source": [
        "# New Section"
      ],
      "metadata": {
        "id": "-pw_IcVw7Q0F"
      }
    }
  ]
}
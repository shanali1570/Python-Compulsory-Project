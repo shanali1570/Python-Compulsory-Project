{
  "nbformat": 4,
  "nbformat_minor": 0,
  "metadata": {
    "colab": {
      "provenance": [],
      "authorship_tag": "ABX9TyPqzRh71tD44NXsOA+oORn+",
      "include_colab_link": true
    },
    "kernelspec": {
      "name": "python3",
      "display_name": "Python 3"
    },
    "language_info": {
      "name": "python"
    }
  },
  "cells": [
    {
      "cell_type": "markdown",
      "metadata": {
        "id": "view-in-github",
        "colab_type": "text"
      },
      "source": [
        "<a href=\"https://colab.research.google.com/github/shanali1570/Python-Compulsory-Project/blob/main/Password_Generator.ipynb\" target=\"_parent\"><img src=\"https://colab.research.google.com/assets/colab-badge.svg\" alt=\"Open In Colab\"/></a>"
      ]
    },
    {
      "cell_type": "code",
      "execution_count": 1,
      "metadata": {
        "colab": {
          "base_uri": "https://localhost:8080/"
        },
        "id": "XGVgmFbKmFhF",
        "outputId": "3725f93d-9adf-4c42-871d-5c2919816e95"
      },
      "outputs": [
        {
          "output_type": "stream",
          "name": "stdout",
          "text": [
            "\n",
            "    ===================================================================\n",
            "    Welcome to the Random Password Generator! created by S.M.Shan-e-Ali\n",
            "    ===================================================================\n",
            "    \n",
            "How many passwords would you like to generate? 4\n",
            "Enter the length of each password: 8\n",
            "\n",
            "Generated Passwords:\n",
            "1: oy[K-2yV\n",
            "2: *B%s-yg;\n",
            "3: jN[NFO-!\n",
            "4: t|nGPzqY\n"
          ]
        }
      ],
      "source": [
        "import random\n",
        "import string\n",
        "\n",
        "def generate_password(length):\n",
        "    \"\"\"Generate a random password of the specified length.\"\"\"\n",
        "    # Define the character pool: uppercase, lowercase, digits, and punctuation\n",
        "    characters = string.ascii_letters + string.digits + string.punctuation\n",
        "    # Randomly select 'length' number of characters\n",
        "    password = ''.join(random.choice(characters) for _ in range(length))\n",
        "    return password\n",
        "\n",
        "def main():\n",
        "    print(\"\"\"\n",
        "    ===================================================================\n",
        "    Welcome to the Random Password Generator! created by S.M.Shan-e-Ali\n",
        "    ===================================================================\n",
        "    \"\"\")\n",
        "\n",
        "    # Collect user input\n",
        "    num_passwords = int(input(\"How many passwords would you like to generate? \"))\n",
        "    password_length = int(input(\"Enter the length of each password: \"))\n",
        "\n",
        "    if password_length < 1:\n",
        "        print(\"Password length must be at least 1.\")\n",
        "        return\n",
        "\n",
        "    print(\"\\nGenerated Passwords:\")\n",
        "\n",
        "    # Generate and display passwords\n",
        "    for i in range(num_passwords):\n",
        "        password = generate_password(password_length)\n",
        "        print(f\"{i+1}: {password}\")\n",
        "\n",
        "if __name__ == \"__main__\":\n",
        "    main()"
      ]
    }
  ]
}